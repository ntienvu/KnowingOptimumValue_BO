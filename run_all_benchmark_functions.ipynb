{
  "cells": [
    {
      "cell_type": "markdown",
      "metadata": {
        "id": "view-in-github",
        "colab_type": "text"
      },
      "source": [
        "<a href=\"https://colab.research.google.com/github/ntienvu/KnownOptimum_BO/blob/master/run_all_benchmark_functions.ipynb\" target=\"_parent\"><img src=\"https://colab.research.google.com/assets/colab-badge.svg\" alt=\"Open In Colab\"/></a>"
      ]
    },
    {
      "cell_type": "code",
      "source": [
        "!pip install git+https://github.com/ntienvu/KnownOptimum_BO"
      ],
      "metadata": {
        "colab": {
          "base_uri": "https://localhost:8080/"
        },
        "id": "ay89j7tSQJ-L",
        "outputId": "e5360057-e3bb-406b-bf79-4bc9848fe9be"
      },
      "execution_count": 30,
      "outputs": [
        {
          "output_type": "stream",
          "name": "stdout",
          "text": [
            "Looking in indexes: https://pypi.org/simple, https://us-python.pkg.dev/colab-wheels/public/simple/\n",
            "Collecting git+https://github.com/ntienvu/KnownOptimum_BO\n",
            "  Cloning https://github.com/ntienvu/KnownOptimum_BO to /tmp/pip-req-build-77ol_qz1\n",
            "  Running command git clone --filter=blob:none --quiet https://github.com/ntienvu/KnownOptimum_BO /tmp/pip-req-build-77ol_qz1\n",
            "  Resolved https://github.com/ntienvu/KnownOptimum_BO to commit 43caf011de39b96224c0552252ccf3cbe06df813\n",
            "  Preparing metadata (setup.py) ... \u001b[?25l\u001b[?25hdone\n",
            "Requirement already satisfied: numpy>=1.9.0 in /usr/local/lib/python3.8/dist-packages (from bayes-opt==1) (1.22.4)\n",
            "Requirement already satisfied: scipy>=0.14.0 in /usr/local/lib/python3.8/dist-packages (from bayes-opt==1) (1.10.1)\n",
            "Requirement already satisfied: scikit-learn>=0.16.1 in /usr/local/lib/python3.8/dist-packages (from bayes-opt==1) (1.2.1)\n",
            "Requirement already satisfied: joblib>=1.1.1 in /usr/local/lib/python3.8/dist-packages (from scikit-learn>=0.16.1->bayes-opt==1) (1.2.0)\n",
            "Requirement already satisfied: threadpoolctl>=2.0.0 in /usr/local/lib/python3.8/dist-packages (from scikit-learn>=0.16.1->bayes-opt==1) (3.1.0)\n"
          ]
        }
      ]
    },
    {
      "cell_type": "markdown",
      "metadata": {
        "id": "k7r0-kCXQFyp"
      },
      "source": [
        "# Demo on benchmark functions"
      ]
    },
    {
      "cell_type": "code",
      "execution_count": 31,
      "metadata": {
        "id": "cZUOpjt7QFyr"
      },
      "outputs": [],
      "source": [
        "import matplotlib.pyplot as plt\n",
        "from bayes_opt import BayesOpt_KnownOptimumValue,BayesOpt\n",
        "import numpy as np\n",
        "from bayes_opt import vis_ERM,functions,utilities\n",
        "import warnings\n",
        "\n",
        "warnings.filterwarnings(\"ignore\")\n"
      ]
    },
    {
      "cell_type": "code",
      "source": [
        "# Check numpy and scipy version\n",
        "\n",
        "import scipy\n",
        "\n",
        "print(np.__version__)\n",
        "print(scipy.__version__)\n",
        "\n",
        "# !pip install 'scipy>=1.9.0,<1.9.2'"
      ],
      "metadata": {
        "colab": {
          "base_uri": "https://localhost:8080/"
        },
        "id": "kNjurwmxDBQV",
        "outputId": "b6d7aaeb-c995-4694-854f-0d70d683f9cf"
      },
      "execution_count": 32,
      "outputs": [
        {
          "output_type": "stream",
          "name": "stdout",
          "text": [
            "1.22.4\n",
            "1.10.1\n"
          ]
        }
      ]
    },
    {
      "cell_type": "markdown",
      "source": [
        "# Select a function to run the experiment"
      ],
      "metadata": {
        "id": "iIrwK90qY2en"
      }
    },
    {
      "cell_type": "code",
      "execution_count": 33,
      "metadata": {
        "id": "nyc_xU8TQFyt",
        "colab": {
          "base_uri": "https://localhost:8080/"
        },
        "outputId": "875d9d0c-c852-40b2-d094-8e3adf37373d"
      },
      "outputs": [
        {
          "output_type": "stream",
          "name": "stdout",
          "text": [
            "func: hartman_3d\n"
          ]
        }
      ],
      "source": [
        "#myfunction=functions.branin()\n",
        "myfunction=functions.hartman_3d()\n",
        "#myfunction=functions.ackley(input_dim=5)\n",
        "#myfunction=functions.alpine1(input_dim=5)\n",
        "#myfunction=functions.gSobol(a=np.array([1,1,1,1,1]))\n",
        "#myfunction=functions.hartman_6d()\n",
        "\n",
        "print(\"func:\",myfunction.name)\n"
      ]
    },
    {
      "cell_type": "markdown",
      "source": [
        "# Select a list of acquisition functions to compare\n"
      ],
      "metadata": {
        "id": "LFDOZEmnV9fP"
      }
    },
    {
      "cell_type": "code",
      "source": [
        "acq_type_list=[]\n",
        "\n",
        "temp={}\n",
        "temp['name']='erm' # expected regret minimization\n",
        "temp['IsTGP']=1 # recommended to use tgp for ERM\n",
        "acq_type_list.append(temp)\n",
        "\n",
        "temp={}\n",
        "temp['name']='cbm' # confidence bound minimization\n",
        "temp['IsTGP']=1 # recommended to use tgp for CBM\n",
        "acq_type_list.append(temp)\n",
        "\n",
        "temp={}\n",
        "temp['name']='mes_fstar' # MES+f*\n",
        "temp['IsTGP']=0 # we can try 'tgp'\n",
        "acq_type_list.append(temp)\n",
        "\n",
        "temp={}\n",
        "temp['name']='ucb' # GP-UCB\n",
        "temp['IsTGP']=0 # we can try 'tgp' by setting it =1\n",
        "#acq_type_list.append(temp)\n",
        "\n",
        "temp={}\n",
        "temp['name']='ei' # EI\n",
        "temp['IsTGP']=0 # we can try 'tgp' by setting it =1\n",
        "acq_type_list.append(temp)\n",
        "\n",
        "temp={}\n",
        "temp['name']='random' # random\n",
        "temp['IsTGP']=0 # we can try 'tgp' by setting it =1\n",
        "acq_type_list.append(temp)"
      ],
      "metadata": {
        "id": "yw4_T3V6V_Cm"
      },
      "execution_count": 34,
      "outputs": []
    },
    {
      "cell_type": "markdown",
      "metadata": {
        "id": "spnr_iF7QFyx"
      },
      "source": [
        "# Run the experiments across different acquisition functions\n",
        "\n",
        "---\n",
        "\n"
      ]
    },
    {
      "cell_type": "code",
      "execution_count": null,
      "metadata": {
        "id": "GQnvei3yQFyx",
        "outputId": "1bed44f4-3973-4732-a600-65347e9ac6dd",
        "colab": {
          "base_uri": "https://localhost:8080/"
        }
      },
      "outputs": [
        {
          "output_type": "stream",
          "name": "stdout",
          "text": [
            "==================acquisition type {'name': 'erm', 'IsTGP': 1}\n",
            "ii=0 Best Found Value=-3.798\n",
            "ii=1 Best Found Value=-3.833\n",
            "ii=2 Best Found Value=-3.847\n",
            "ii=3 Best Found Value=-3.802\n",
            "ii=4 Best Found Value=-3.825\n",
            "ii=5 Best Found Value=-3.784\n",
            "ii=6 Best Found Value=-3.780\n",
            "ii=7 Best Found Value=-3.860\n",
            "ii=8 Best Found Value=-3.817\n"
          ]
        }
      ],
      "source": [
        "fig=plt.figure()\n",
        "\n",
        "color_list=['r','b','k','m','c','g']\n",
        "marker_list=['s','x','o','v','^','>']\n",
        "\n",
        "for idx, acq_type in enumerate(acq_type_list):\n",
        "\n",
        "    print(\"==================acquisition type\",acq_type)\n",
        "    \n",
        "    IsTGP=acq_type['IsTGP']\n",
        "    acq_name=acq_type['name']\n",
        "    \n",
        "    nRepeat=10\n",
        "    \n",
        "    ybest=[0]*nRepeat\n",
        "    ElapseTime=[0]*nRepeat\n",
        "    OptTime=[0]*nRepeat\n",
        "    marker=[0]*nRepeat\n",
        "    bo=[0]*nRepeat\n",
        "   \n",
        "    for ii in range(nRepeat): # run over multiple repetitions\n",
        "        \n",
        "        if 'fstar' in acq_name or acq_name == 'erm' or acq_name == 'cbm':\n",
        "            bo[ii]=BayesOpt_KnownOptimumValue(myfunction.func,myfunction.bounds,\\\n",
        "                                myfunction.fstar,acq_name,IsTGP,verbose=0)\n",
        "        else:\n",
        "            bo[ii]=BayesOpt(myfunction.func,myfunction.bounds,acq_name,verbose=0)\n",
        "  \n",
        "        if acq_name =='random': # we generate random points without running BO\n",
        "            ybest[ii],ElapseTime[ii]=utilities.run_experiment(bo[ii],\n",
        "                 n_init=13*myfunction.input_dim,NN=0,runid=ii)   \n",
        "        else:\n",
        "            ybest[ii],ElapseTime[ii]=utilities.run_experiment(bo[ii],\n",
        "                                        n_init=3*myfunction.input_dim,\\\n",
        "                                        NN=10*myfunction.input_dim,runid=ii)   \n",
        "                                       \n",
        "        OptTime[ii]=bo[ii].time_opt # record the computational time\n",
        "        print(\"ii={} Best Found Value={:.3f}\".format(ii,myfunction.ismax*np.max(ybest[ii])))                                              \n",
        "\n",
        "    # record the result and save to pickle files================================\n",
        "    # Score={}\n",
        "    # Score[\"ybest\"]=ybest\n",
        "    # Score[\"ElapseTime\"]=ElapseTime\n",
        "    # Score[\"OptTime\"]=OptTime\n",
        "    # utilities.print_result_sequential(bo,myfunction,Score,acq_type) \n",
        "    \n",
        "    # plot the result ==========================================================\n",
        "    y_best_sofar=[0]*len(bo)\n",
        "    for uu,mybo in enumerate(bo):\n",
        "        y_best_sofar[uu]=[ (myfunction.fstar - np.max(mybo.Y_ori[:ii+1]) ) for ii in range(len(mybo.Y_ori))]\n",
        "        y_best_sofar[uu]=y_best_sofar[uu][3*myfunction.input_dim-1:] # remove the random phase for plotting purpose\n",
        "        \n",
        "    y_best_sofar=np.asarray(y_best_sofar)\n",
        "    xaxis=range(y_best_sofar.shape[1])\n",
        "    plt.errorbar(xaxis,np.mean(y_best_sofar,axis=0), np.std(y_best_sofar,axis=0)/np.sqrt(nRepeat),\n",
        "                 label=acq_type['name'],color=color_list[idx],marker=marker_list[idx])\n",
        "    \n",
        "plt.ylabel(\"Simple Regret\",fontsize=14)\n",
        "plt.xlabel(\"Iterations\",fontsize=14)\n",
        "plt.legend(prop={'size': 14})\n",
        "strTitle=\"{:s} D={:d}\".format(myfunction.name,myfunction.input_dim)\n",
        "plt.title(strTitle,fontsize=18)\n"
      ]
    }
  ],
  "metadata": {
    "kernelspec": {
      "display_name": "Python 3",
      "language": "python",
      "name": "python3"
    },
    "language_info": {
      "codemirror_mode": {
        "name": "ipython",
        "version": 3
      },
      "file_extension": ".py",
      "mimetype": "text/x-python",
      "name": "python",
      "nbconvert_exporter": "python",
      "pygments_lexer": "ipython3",
      "version": "3.7.4"
    },
    "colab": {
      "provenance": [],
      "include_colab_link": true
    }
  },
  "nbformat": 4,
  "nbformat_minor": 0
}