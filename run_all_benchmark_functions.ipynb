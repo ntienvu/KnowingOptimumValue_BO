{
  "cells": [
    {
      "cell_type": "markdown",
      "metadata": {
        "id": "view-in-github",
        "colab_type": "text"
      },
      "source": [
        "<a href=\"https://colab.research.google.com/github/ntienvu/KnownOptimum_BO/blob/master/run_all_benchmark_functions.ipynb\" target=\"_parent\"><img src=\"https://colab.research.google.com/assets/colab-badge.svg\" alt=\"Open In Colab\"/></a>"
      ]
    },
    {
      "cell_type": "code",
      "source": [
        "!pip install git+https://github.com/ntienvu/KnownOptimum_BO"
      ],
      "metadata": {
        "colab": {
          "base_uri": "https://localhost:8080/"
        },
        "id": "ay89j7tSQJ-L",
        "outputId": "f5faae19-b934-4a4e-c68c-88d615b6a712"
      },
      "execution_count": 1,
      "outputs": [
        {
          "output_type": "stream",
          "name": "stdout",
          "text": [
            "Looking in indexes: https://pypi.org/simple, https://us-python.pkg.dev/colab-wheels/public/simple/\n",
            "Collecting git+https://github.com/ntienvu/KnownOptimum_BO\n",
            "  Cloning https://github.com/ntienvu/KnownOptimum_BO to /tmp/pip-req-build-tuf8qqvy\n",
            "  Running command git clone --filter=blob:none --quiet https://github.com/ntienvu/KnownOptimum_BO /tmp/pip-req-build-tuf8qqvy\n",
            "  Resolved https://github.com/ntienvu/KnownOptimum_BO to commit f2175f4a23b4f6eeda1e77efb504082cc17c7d4b\n",
            "  Preparing metadata (setup.py) ... \u001b[?25l\u001b[?25hdone\n",
            "Requirement already satisfied: numpy>=1.9.0 in /usr/local/lib/python3.8/dist-packages (from bayes-opt==1) (1.21.6)\n",
            "Requirement already satisfied: scipy>=0.14.0 in /usr/local/lib/python3.8/dist-packages (from bayes-opt==1) (1.7.3)\n",
            "Requirement already satisfied: scikit-learn>=0.16.1 in /usr/local/lib/python3.8/dist-packages (from bayes-opt==1) (1.0.2)\n",
            "Requirement already satisfied: joblib>=0.11 in /usr/local/lib/python3.8/dist-packages (from scikit-learn>=0.16.1->bayes-opt==1) (1.2.0)\n",
            "Requirement already satisfied: threadpoolctl>=2.0.0 in /usr/local/lib/python3.8/dist-packages (from scikit-learn>=0.16.1->bayes-opt==1) (3.1.0)\n"
          ]
        }
      ]
    },
    {
      "cell_type": "markdown",
      "metadata": {
        "id": "k7r0-kCXQFyp"
      },
      "source": [
        "# Demo on benchmark functions"
      ]
    },
    {
      "cell_type": "code",
      "execution_count": 2,
      "metadata": {
        "id": "cZUOpjt7QFyr"
      },
      "outputs": [],
      "source": [
        "import matplotlib.pyplot as plt\n",
        "from bayes_opt import BayesOpt_KnownOptimumValue,BayesOpt\n",
        "import numpy as np\n",
        "from bayes_opt import vis_ERM,functions,utilities\n",
        "import warnings\n",
        "\n",
        "warnings.filterwarnings(\"ignore\")\n"
      ]
    },
    {
      "cell_type": "markdown",
      "source": [
        "# Select a function to run the experiment"
      ],
      "metadata": {
        "id": "iIrwK90qY2en"
      }
    },
    {
      "cell_type": "code",
      "execution_count": 3,
      "metadata": {
        "id": "nyc_xU8TQFyt",
        "colab": {
          "base_uri": "https://localhost:8080/"
        },
        "outputId": "2330b95c-3a43-4ed9-8323-fc0abdfc38b9"
      },
      "outputs": [
        {
          "output_type": "stream",
          "name": "stdout",
          "text": [
            "func: hartman_3d\n"
          ]
        }
      ],
      "source": [
        "#myfunction=functions.branin()\n",
        "myfunction=functions.hartman_3d()\n",
        "#myfunction=functions.ackley(input_dim=5)\n",
        "#myfunction=functions.gSobol(a=np.array([1,1,1,1,1]))\n",
        "#myfunction=functions.hartman_6d()\n",
        "\n",
        "print(\"func:\",myfunction.name)\n"
      ]
    },
    {
      "cell_type": "markdown",
      "source": [
        "# Select a list of acquisition functions to compare\n"
      ],
      "metadata": {
        "id": "LFDOZEmnV9fP"
      }
    },
    {
      "cell_type": "code",
      "source": [
        "acq_type_list=[]\n",
        "\n",
        "temp={}\n",
        "temp['name']='erm' # expected regret minimization\n",
        "temp['IsTGP']=1 # recommended to use tgp for ERM\n",
        "acq_type_list.append(temp)\n",
        "\n",
        "temp={}\n",
        "temp['name']='cbm' # confidence bound minimization\n",
        "temp['IsTGP']=1 # recommended to use tgp for CBM\n",
        "acq_type_list.append(temp)\n",
        "\n",
        "temp={}\n",
        "temp['name']='ucb' # vanilla UCB\n",
        "temp['IsTGP']=0 # we can try 'tgp' by setting it =1\n",
        "#acq_type_list.append(temp)\n",
        "\n",
        "temp={}\n",
        "temp['name']='ei' # vanilla EI\n",
        "temp['IsTGP']=0 # we can try 'tgp' by setting it =1\n",
        "acq_type_list.append(temp)\n",
        "\n",
        "temp={}\n",
        "temp['name']='random' # random\n",
        "temp['IsTGP']=0 # we can try 'tgp' by setting it =1\n",
        "acq_type_list.append(temp)"
      ],
      "metadata": {
        "id": "yw4_T3V6V_Cm"
      },
      "execution_count": 4,
      "outputs": []
    },
    {
      "cell_type": "markdown",
      "metadata": {
        "id": "spnr_iF7QFyx"
      },
      "source": [
        "# Run the experiments across different acquisition functions\n",
        "\n",
        "---\n",
        "\n"
      ]
    },
    {
      "cell_type": "code",
      "execution_count": 5,
      "metadata": {
        "id": "GQnvei3yQFyx",
        "outputId": "5ad99379-d651-488f-dcad-b2e484972d81",
        "colab": {
          "base_uri": "https://localhost:8080/",
          "height": 1000
        }
      },
      "outputs": [
        {
          "output_type": "stream",
          "name": "stdout",
          "text": [
            "==================acquisition type {'name': 'erm', 'IsTGP': 1}\n",
            "ii=0 Best Found Value=-3.777\n",
            "ii=1 Best Found Value=-3.835\n",
            "ii=2 Best Found Value=-3.847\n",
            "ii=3 Best Found Value=-3.828\n",
            "ii=4 Best Found Value=-3.795\n",
            "ii=5 Best Found Value=-3.854\n",
            "ii=6 Best Found Value=-3.829\n",
            "ii=7 Best Found Value=-3.807\n",
            "ii=8 Best Found Value=-3.707\n",
            "ii=9 Best Found Value=-3.858\n",
            "==================acquisition type {'name': 'cbm', 'IsTGP': 1}\n",
            "ii=0 Best Found Value=-3.630\n",
            "ii=1 Best Found Value=-3.803\n",
            "ii=2 Best Found Value=-3.812\n",
            "ii=3 Best Found Value=-3.744\n",
            "ii=4 Best Found Value=-3.647\n",
            "ii=5 Best Found Value=-3.796\n",
            "ii=6 Best Found Value=-3.696\n",
            "ii=7 Best Found Value=-3.820\n",
            "ii=8 Best Found Value=-3.812\n",
            "ii=9 Best Found Value=-3.859\n",
            "==================acquisition type {'name': 'ei', 'IsTGP': 0}\n",
            "ii=0 Best Found Value=-3.579\n",
            "ii=1 Best Found Value=-3.616\n",
            "ii=2 Best Found Value=-3.795\n",
            "ii=3 Best Found Value=-3.832\n",
            "ii=4 Best Found Value=-3.825\n",
            "ii=5 Best Found Value=-3.801\n",
            "ii=6 Best Found Value=-3.851\n",
            "ii=7 Best Found Value=-3.825\n",
            "ii=8 Best Found Value=-3.798\n",
            "ii=9 Best Found Value=-3.816\n",
            "==================acquisition type {'name': 'random', 'IsTGP': 0}\n",
            "ii=0 Best Found Value=-3.290\n",
            "ii=1 Best Found Value=-2.890\n",
            "ii=2 Best Found Value=-2.996\n",
            "ii=3 Best Found Value=-3.507\n",
            "ii=4 Best Found Value=-3.439\n",
            "ii=5 Best Found Value=-3.272\n",
            "ii=6 Best Found Value=-2.728\n",
            "ii=7 Best Found Value=-3.058\n",
            "ii=8 Best Found Value=-3.557\n",
            "ii=9 Best Found Value=-3.294\n"
          ]
        },
        {
          "output_type": "execute_result",
          "data": {
            "text/plain": [
              "Text(0.5, 1.0, 'hartman_3d D=3')"
            ]
          },
          "metadata": {},
          "execution_count": 5
        },
        {
          "output_type": "display_data",
          "data": {
            "text/plain": [
              "<Figure size 432x288 with 1 Axes>"
            ],
            "image/png": "[encoded data removed]"
          },
          "metadata": {
            "needs_background": "light"
          }
        }
      ],
      "source": [
        "fig=plt.figure()\n",
        "\n",
        "color_list=['r','b','k','m','c','g']\n",
        "marker_list=['s','x','o','v','^','>']\n",
        "\n",
        "for idx, acq_type in enumerate(acq_type_list):\n",
        "\n",
        "    print(\"==================acquisition type\",acq_type)\n",
        "    \n",
        "    IsTGP=acq_type['IsTGP']\n",
        "    acq_name=acq_type['name']\n",
        "    \n",
        "    nRepeat=10\n",
        "    \n",
        "    ybest=[0]*nRepeat\n",
        "    ElapseTime=[0]*nRepeat\n",
        "    OptTime=[0]*nRepeat\n",
        "    marker=[0]*nRepeat\n",
        "    bo=[0]*nRepeat\n",
        "   \n",
        "    for ii in range(nRepeat): # run over multiple repetitions\n",
        "        \n",
        "        if 'kov' in acq_name or acq_name == 'erm' or acq_name == 'cbm':\n",
        "            bo[ii]=BayesOpt_KnownOptimumValue(myfunction.func,myfunction.bounds,\\\n",
        "                                myfunction.fstar,acq_name,IsTGP,verbose=0)\n",
        "        else:\n",
        "            bo[ii]=BayesOpt(myfunction.func,myfunction.bounds,acq_name,verbose=0)\n",
        "  \n",
        "        if acq_name =='random': # we generate random points without running BO\n",
        "            ybest[ii],ElapseTime[ii]=utilities.run_experiment(bo[ii],\n",
        "                 n_init=13*myfunction.input_dim,NN=0,runid=ii)   \n",
        "        else:\n",
        "            ybest[ii],ElapseTime[ii]=utilities.run_experiment(bo[ii],\n",
        "                                        n_init=3*myfunction.input_dim,\\\n",
        "                                        NN=10*myfunction.input_dim,runid=ii)   \n",
        "                                       \n",
        "        OptTime[ii]=bo[ii].time_opt # record the computational time\n",
        "        print(\"ii={} Best Found Value={:.3f}\".format(ii,myfunction.ismax*np.max(ybest[ii])))                                              \n",
        "\n",
        "    # record the result and save to pickle files================================\n",
        "    # Score={}\n",
        "    # Score[\"ybest\"]=ybest\n",
        "    # Score[\"ElapseTime\"]=ElapseTime\n",
        "    # Score[\"OptTime\"]=OptTime\n",
        "    # utilities.print_result_sequential(bo,myfunction,Score,acq_type) \n",
        "    \n",
        "    # plot the result ==========================================================\n",
        "    y_best_sofar=[0]*len(bo)\n",
        "    for uu,mybo in enumerate(bo):\n",
        "        y_best_sofar[uu]=[ (myfunction.fstar - np.max(mybo.Y_ori[:ii+1]) ) for ii in range(len(mybo.Y_ori))]\n",
        "        y_best_sofar[uu]=y_best_sofar[uu][3*myfunction.input_dim:] # remove the random phase for plotting purpose\n",
        "        \n",
        "    y_best_sofar=np.asarray(y_best_sofar)\n",
        "    xaxis=range(y_best_sofar.shape[1])\n",
        "    plt.errorbar(xaxis,np.mean(y_best_sofar,axis=0), np.std(y_best_sofar,axis=0)/np.sqrt(nRepeat),\n",
        "                 label=acq_type['name'],color=color_list[idx],marker=marker_list[idx])\n",
        "    \n",
        "plt.ylabel(\"Simple Regret\",fontsize=14)\n",
        "plt.xlabel(\"Iterations\",fontsize=14)\n",
        "plt.legend(prop={'size': 14})\n",
        "strTitle=\"{:s} D={:d}\".format(myfunction.name,myfunction.input_dim)\n",
        "plt.title(strTitle,fontsize=18)\n"
      ]
    }
  ],
  "metadata": {
    "kernelspec": {
      "display_name": "Python 3",
      "language": "python",
      "name": "python3"
    },
    "language_info": {
      "codemirror_mode": {
        "name": "ipython",
        "version": 3
      },
      "file_extension": ".py",
      "mimetype": "text/x-python",
      "name": "python",
      "nbconvert_exporter": "python",
      "pygments_lexer": "ipython3",
      "version": "3.7.4"
    },
    "colab": {
      "provenance": [],
      "include_colab_link": true
    }
  },
  "nbformat": 4,
  "nbformat_minor": 0
}