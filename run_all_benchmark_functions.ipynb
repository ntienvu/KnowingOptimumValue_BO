{
  "cells": [
    {
      "cell_type": "markdown",
      "metadata": {
        "id": "view-in-github",
        "colab_type": "text"
      },
      "source": [
        "<a href=\"https://colab.research.google.com/github/ntienvu/KnownOptimum_BO/blob/master/run_all_benchmark_functions.ipynb\" target=\"_parent\"><img src=\"https://colab.research.google.com/assets/colab-badge.svg\" alt=\"Open In Colab\"/></a>"
      ]
    },
    {
      "cell_type": "code",
      "source": [
        "#!sudo apt-get install python3.8.13\n",
        "\n",
        "\n",
        "!pip install 'scipy==1.9.1' #--force-reinstall\n",
        "!pip install 'numpy==1.23.3' #--force-reinstall\n",
        "!pip install 'scikit-learn==1.1.2' #--force-reinstall\n",
        "\n",
        "!pip install git+https://github.com/ntienvu/KnownOptimum_BO"
      ],
      "metadata": {
        "colab": {
          "base_uri": "https://localhost:8080/",
          "height": 745
        },
        "id": "ay89j7tSQJ-L",
        "outputId": "15b5e899-9355-48e4-c97a-0ab92a6efcc9"
      },
      "execution_count": 1,
      "outputs": [
        {
          "output_type": "stream",
          "name": "stdout",
          "text": [
            "Looking in indexes: https://pypi.org/simple, https://us-python.pkg.dev/colab-wheels/public/simple/\n",
            "Collecting scipy==1.9.1\n",
            "  Using cached scipy-1.9.1-cp38-cp38-manylinux_2_17_x86_64.manylinux2014_x86_64.whl (43.4 MB)\n",
            "Requirement already satisfied: numpy<1.25.0,>=1.18.5 in /usr/local/lib/python3.8/dist-packages (from scipy==1.9.1) (1.24.2)\n",
            "Installing collected packages: scipy\n",
            "  Attempting uninstall: scipy\n",
            "    Found existing installation: scipy 1.10.1\n",
            "    Uninstalling scipy-1.10.1:\n",
            "      Successfully uninstalled scipy-1.10.1\n",
            "Successfully installed scipy-1.9.1\n",
            "Looking in indexes: https://pypi.org/simple, https://us-python.pkg.dev/colab-wheels/public/simple/\n",
            "Collecting numpy==1.23.3\n",
            "  Using cached numpy-1.23.3-cp38-cp38-manylinux_2_17_x86_64.manylinux2014_x86_64.whl (17.1 MB)\n",
            "Installing collected packages: numpy\n",
            "  Attempting uninstall: numpy\n",
            "    Found existing installation: numpy 1.24.2\n",
            "    Uninstalling numpy-1.24.2:\n",
            "      Successfully uninstalled numpy-1.24.2\n",
            "Successfully installed numpy-1.23.3\n"
          ]
        },
        {
          "output_type": "display_data",
          "data": {
            "application/vnd.colab-display-data+json": {
              "pip_warning": {
                "packages": [
                  "numpy"
                ]
              }
            }
          },
          "metadata": {}
        },
        {
          "output_type": "stream",
          "name": "stdout",
          "text": [
            "Looking in indexes: https://pypi.org/simple, https://us-python.pkg.dev/colab-wheels/public/simple/\n",
            "Requirement already satisfied: scikit-learn==1.1.2 in /usr/local/lib/python3.8/dist-packages (1.1.2)\n",
            "Requirement already satisfied: joblib>=1.0.0 in /usr/local/lib/python3.8/dist-packages (from scikit-learn==1.1.2) (1.2.0)\n",
            "Requirement already satisfied: numpy>=1.17.3 in /usr/local/lib/python3.8/dist-packages (from scikit-learn==1.1.2) (1.23.3)\n",
            "Requirement already satisfied: scipy>=1.3.2 in /usr/local/lib/python3.8/dist-packages (from scikit-learn==1.1.2) (1.9.1)\n",
            "Requirement already satisfied: threadpoolctl>=2.0.0 in /usr/local/lib/python3.8/dist-packages (from scikit-learn==1.1.2) (3.1.0)\n",
            "Looking in indexes: https://pypi.org/simple, https://us-python.pkg.dev/colab-wheels/public/simple/\n",
            "Collecting git+https://github.com/ntienvu/KnownOptimum_BO\n",
            "  Cloning https://github.com/ntienvu/KnownOptimum_BO to /tmp/pip-req-build-i8pt0ng3\n",
            "  Running command git clone --filter=blob:none --quiet https://github.com/ntienvu/KnownOptimum_BO /tmp/pip-req-build-i8pt0ng3\n",
            "  Resolved https://github.com/ntienvu/KnownOptimum_BO to commit dc60d005c940330821888571ff81efbf2ae411a4\n",
            "  Preparing metadata (setup.py) ... \u001b[?25l\u001b[?25hdone\n",
            "Requirement already satisfied: numpy>=1.9.0 in /usr/local/lib/python3.8/dist-packages (from bayes-opt==1) (1.23.3)\n",
            "Requirement already satisfied: scipy>=0.14.0 in /usr/local/lib/python3.8/dist-packages (from bayes-opt==1) (1.9.1)\n",
            "Requirement already satisfied: scikit-learn>=0.16.1 in /usr/local/lib/python3.8/dist-packages (from bayes-opt==1) (1.1.2)\n",
            "Requirement already satisfied: tqdm>=4.64.0 in /usr/local/lib/python3.8/dist-packages (from bayes-opt==1) (4.64.1)\n",
            "Requirement already satisfied: joblib>=1.0.0 in /usr/local/lib/python3.8/dist-packages (from scikit-learn>=0.16.1->bayes-opt==1) (1.2.0)\n",
            "Requirement already satisfied: threadpoolctl>=2.0.0 in /usr/local/lib/python3.8/dist-packages (from scikit-learn>=0.16.1->bayes-opt==1) (3.1.0)\n"
          ]
        }
      ]
    },
    {
      "cell_type": "markdown",
      "metadata": {
        "id": "k7r0-kCXQFyp"
      },
      "source": [
        "# Demo on benchmark functions"
      ]
    },
    {
      "cell_type": "code",
      "execution_count": 2,
      "metadata": {
        "id": "cZUOpjt7QFyr"
      },
      "outputs": [],
      "source": [
        "import matplotlib.pyplot as plt\n",
        "from bayes_opt import BayesOpt_KnownOptimumValue,BayesOpt\n",
        "import numpy as np\n",
        "from bayes_opt import vis_ERM,functions,utilities\n",
        "import warnings\n",
        "from tqdm.notebook import tqdm\n",
        "\n",
        "\n",
        "warnings.filterwarnings(\"ignore\")\n"
      ]
    },
    {
      "cell_type": "code",
      "source": [
        "# Check numpy and scipy version\n",
        "\n",
        "import scipy\n",
        "import sklearn\n",
        "\n",
        "print(np.__version__)\n",
        "print(scipy.__version__)\n",
        "print(sklearn.__version__)\n",
        "\n",
        "# !pip install 'scipy>=1.9.1,<1.9.2'\n",
        "# !pip install 'numpy>=1.23.1,<1.23.4'\n",
        "# !pip install scikit-learn==1.1.2\n",
        "\n",
        "\n",
        "import sys\n",
        "print('Python version: ', sys.version)\n"
      ],
      "metadata": {
        "colab": {
          "base_uri": "https://localhost:8080/"
        },
        "id": "kNjurwmxDBQV",
        "outputId": "95329885-ae1c-40d7-967d-75f434fdd24d"
      },
      "execution_count": 3,
      "outputs": [
        {
          "output_type": "stream",
          "name": "stdout",
          "text": [
            "1.24.2\n",
            "1.9.1\n",
            "1.1.2\n",
            "Python version:  3.8.10 (default, Nov 14 2022, 12:59:47) \n",
            "[GCC 9.4.0]\n"
          ]
        }
      ]
    },
    {
      "cell_type": "code",
      "source": [
        "\n",
        "import scipy\n",
        "import sklearn\n",
        "\n",
        "print(\"sklearn.__version__\",sklearn.__version__)\n",
        "print(\"np.__version__\",np.__version__)\n",
        "print(\"scipy.__version__\",scipy.__version__)"
      ],
      "metadata": {
        "colab": {
          "base_uri": "https://localhost:8080/"
        },
        "id": "6hSNBiEkssSR",
        "outputId": "b9f02028-0630-45a3-c2eb-21650f6ab9a3"
      },
      "execution_count": 4,
      "outputs": [
        {
          "output_type": "stream",
          "name": "stdout",
          "text": [
            "sklearn.__version__ 1.1.2\n",
            "np.__version__ 1.24.2\n",
            "scipy.__version__ 1.9.1\n"
          ]
        }
      ]
    },
    {
      "cell_type": "markdown",
      "source": [
        "# Select a function to run the experiment"
      ],
      "metadata": {
        "id": "iIrwK90qY2en"
      }
    },
    {
      "cell_type": "code",
      "execution_count": 5,
      "metadata": {
        "id": "nyc_xU8TQFyt",
        "colab": {
          "base_uri": "https://localhost:8080/"
        },
        "outputId": "daa711d6-ad5b-40ca-8951-573e7bc645e2"
      },
      "outputs": [
        {
          "output_type": "stream",
          "name": "stdout",
          "text": [
            "func: alpine1\n"
          ]
        }
      ],
      "source": [
        "#myfunction=functions.branin()\n",
        "#myfunction=functions.hartman_3d()\n",
        "#myfunction=functions.ackley(input_dim=5)\n",
        "myfunction=functions.alpine1(input_dim=5)\n",
        "#myfunction=functions.gSobol(a=np.array([1,1,1,1,1]))\n",
        "#myfunction=functions.hartman_6d()\n",
        "\n",
        "print(\"func:\",myfunction.name)\n"
      ]
    },
    {
      "cell_type": "markdown",
      "source": [
        "# Select a list of acquisition functions to compare\n"
      ],
      "metadata": {
        "id": "LFDOZEmnV9fP"
      }
    },
    {
      "cell_type": "code",
      "source": [
        "acq_type_list=[]\n",
        "\n",
        "temp={}\n",
        "temp['name']='erm' # expected regret minimization\n",
        "temp['IsTGP']=1 # recommended to use tgp for ERM\n",
        "acq_type_list.append(temp)\n",
        "\n",
        "temp={}\n",
        "temp['name']='cbm' # confidence bound minimization\n",
        "temp['IsTGP']=1 # recommended to use tgp for CBM\n",
        "acq_type_list.append(temp)\n",
        "\n",
        "temp={}\n",
        "temp['name']='mes_fstar' # MES+f*\n",
        "temp['IsTGP']=0 # we can try 'tgp'\n",
        "acq_type_list.append(temp)\n",
        "\n",
        "temp={}\n",
        "temp['name']='ucb' # GP-UCB\n",
        "temp['IsTGP']=0 # we can try 'tgp' by setting it =1\n",
        "#acq_type_list.append(temp)\n",
        "\n",
        "temp={}\n",
        "temp['name']='ei' # EI\n",
        "temp['IsTGP']=0 # we can try 'tgp' by setting it =1\n",
        "acq_type_list.append(temp)\n",
        "\n",
        "temp={}\n",
        "temp['name']='random' # random\n",
        "temp['IsTGP']=0 # we can try 'tgp' by setting it =1\n",
        "acq_type_list.append(temp)"
      ],
      "metadata": {
        "id": "yw4_T3V6V_Cm"
      },
      "execution_count": 6,
      "outputs": []
    },
    {
      "cell_type": "markdown",
      "metadata": {
        "id": "spnr_iF7QFyx"
      },
      "source": [
        "# Run the experiments across different acquisition functions\n",
        "\n",
        "---\n",
        "\n"
      ]
    },
    {
      "cell_type": "code",
      "execution_count": null,
      "metadata": {
        "id": "GQnvei3yQFyx",
        "outputId": "c30be4e2-97bd-4ed0-ac2c-31da462fdc4e",
        "colab": {
          "base_uri": "https://localhost:8080/",
          "height": 309,
          "referenced_widgets": [
            "4ba9ac63053e4450a8769710107e6409",
            "9bffde8158564887ad6e6fa81270dee4",
            "a4d2c6d7e4664b7499eb8484ef112ea8",
            "592badcb723148af89aafae9b143db80",
            "f546b3ea36db42d88fd4875f4db8918c",
            "bd413509d0d74bd4a96bb897e8ac9324",
            "06c671b803d749fbb068d82119a1b5d5",
            "c5b9c1e33dd144a5847471f93adfbeba",
            "bd7a5d27fe5740999c78748a9840b145",
            "9b7cae938de840f697ef6db9d44ebadd",
            "c8b15b5931984e7888e7573b8372c0ad"
          ]
        }
      },
      "outputs": [
        {
          "output_type": "stream",
          "name": "stdout",
          "text": [
            "==================acquisition type {'name': 'erm', 'IsTGP': 1}\n"
          ]
        },
        {
          "output_type": "display_data",
          "data": {
            "text/plain": [
              "  0%|          | 0/10 [00:00<?, ?it/s]"
            ],
            "application/vnd.jupyter.widget-view+json": {
              "version_major": 2,
              "version_minor": 0,
              "model_id": "4ba9ac63053e4450a8769710107e6409"
            }
          },
          "metadata": {}
        },
        {
          "output_type": "stream",
          "name": "stdout",
          "text": [
            "[ -8.61413684 -14.39890465 -16.93622744 -22.92938243 -11.70222065\n",
            " -13.01072522 -13.49332877 -12.68894879  -8.78322918 -13.00487336\n",
            " -15.15409797 -13.9441531  -17.24393558 -20.47452169  -6.75988881\n",
            "  -8.12591663 -14.4691833   -8.34799886 -13.17659305  -9.54674599\n",
            " -14.77858797 -15.09772184 -12.84096656 -14.42981191  -6.34477184\n",
            " -19.82893063 -12.8205736  -11.14367591  -9.36844237  -9.69781816\n",
            " -17.22602777 -14.3888357  -11.29692387 -14.31678723  -9.75417079\n",
            " -14.70815062 -11.50502707  -6.92499077  -8.26683218 -10.38006889\n",
            " -12.72297762 -10.35643007 -20.00785518 -13.08294999 -14.23909396\n",
            "  -6.57380853  -5.43109558 -14.59170237  -9.83190462  -6.22860732\n",
            "  -5.75854061  -4.79031633  -7.95241654 -17.93494219  -6.42029875\n",
            " -19.01913607  -9.57681676 -14.60718916  -9.72954983 -12.17335199\n",
            " -10.53414051 -13.73876498  -5.70799417 -19.54113844 -19.82862204]\n",
            "#repeat=0 Best Found Value=4.790\n"
          ]
        }
      ],
      "source": [
        "fig=plt.figure()\n",
        "\n",
        "color_list=['r','b','k','m','c','g']\n",
        "marker_list=['s','x','o','v','^','>']\n",
        "\n",
        "for idx, acq_type in enumerate(acq_type_list):\n",
        "\n",
        "    print(\"==================acquisition type\",acq_type)\n",
        "    \n",
        "    IsTGP=acq_type['IsTGP']\n",
        "    acq_name=acq_type['name']\n",
        "    \n",
        "    nRepeat=10\n",
        "    \n",
        "    ybest=[0]*nRepeat\n",
        "    ElapseTime=[0]*nRepeat\n",
        "    OptTime=[0]*nRepeat\n",
        "    bo=[0]*nRepeat\n",
        "   \n",
        "    for ii in tqdm(range(nRepeat)): # run over multiple repetitions\n",
        "        \n",
        "        if 'fstar' in acq_name or acq_name == 'erm' or acq_name == 'cbm':\n",
        "            bo[ii]=BayesOpt_KnownOptimumValue(myfunction.func,myfunction.bounds,\\\n",
        "                                myfunction.fstar,acq_name,IsTGP,verbose=0)\n",
        "        else:\n",
        "            bo[ii]=BayesOpt(myfunction.func,myfunction.bounds,acq_name,verbose=0)\n",
        "  \n",
        "        if acq_name =='random': # we generate random points without running BO\n",
        "            ybest[ii],ElapseTime[ii]=utilities.run_experiment(bo[ii],\n",
        "                 n_init=13*myfunction.input_dim,NN=0,runid=ii)   \n",
        "        else:\n",
        "            ybest[ii],ElapseTime[ii]=utilities.run_experiment(bo[ii],\n",
        "                                        n_init=3*myfunction.input_dim,\\\n",
        "                                        NN=10*myfunction.input_dim,runid=ii)   \n",
        "                                       \n",
        "        OptTime[ii]=bo[ii].time_opt # record the computational time\n",
        "        print(ybest[ii])\n",
        "        print(\"#repeat={} Best Found Value={:.3f}\".format(ii,myfunction.ismax*np.max(ybest[ii])))                                              \n",
        "\n",
        "    # record the result and save to pickle files================================\n",
        "    # Score={}\n",
        "    # Score[\"ybest\"]=ybest\n",
        "    # Score[\"ElapseTime\"]=ElapseTime\n",
        "    # Score[\"OptTime\"]=OptTime\n",
        "    # utilities.print_result_sequential(bo,myfunction,Score,acq_type) \n",
        "    \n",
        "    # plot the result ==========================================================\n",
        "    y_best_sofar=[0]*len(bo)\n",
        "    for uu,mybo in enumerate(bo):\n",
        "        y_best_sofar[uu]=[ (myfunction.fstar - np.max(mybo.Y_ori[:ii+1]) ) for ii in range(len(mybo.Y_ori))]\n",
        "        y_best_sofar[uu]=y_best_sofar[uu][3*myfunction.input_dim-1:] # remove the random phase for plotting purpose\n",
        "        \n",
        "    y_best_sofar=np.asarray(y_best_sofar)\n",
        "    xaxis=range(y_best_sofar.shape[1])\n",
        "    plt.errorbar(xaxis,np.mean(y_best_sofar,axis=0), np.std(y_best_sofar,axis=0)/np.sqrt(nRepeat),\n",
        "                 label=acq_type['name'],color=color_list[idx],marker=marker_list[idx])\n",
        "    \n",
        "plt.ylabel(\"Simple Regret\",fontsize=14)\n",
        "plt.xlabel(\"Iterations\",fontsize=14)\n",
        "plt.legend(prop={'size': 14})\n",
        "strTitle=\"{:s} D={:d}\".format(myfunction.name,myfunction.input_dim)\n",
        "plt.title(strTitle,fontsize=18)\n"
      ]
    }
  ],
  "metadata": {
    "kernelspec": {
      "display_name": "Python 3",
      "language": "python",
      "name": "python3"
    },
    "language_info": {
      "codemirror_mode": {
        "name": "ipython",
        "version": 3
      },
      "file_extension": ".py",
      "mimetype": "text/x-python",
      "name": "python",
      "nbconvert_exporter": "python",
      "pygments_lexer": "ipython3",
      "version": "3.7.4"
    },
    "colab": {
      "provenance": [],
      "include_colab_link": true
    },
    "widgets": {
      "application/vnd.jupyter.widget-state+json": {
        "4ba9ac63053e4450a8769710107e6409": {
          "model_module": "@jupyter-widgets/controls",
          "model_name": "HBoxModel",
          "model_module_version": "1.5.0",
          "state": {
            "_dom_classes": [],
            "_model_module": "@jupyter-widgets/controls",
            "_model_module_version": "1.5.0",
            "_model_name": "HBoxModel",
            "_view_count": null,
            "_view_module": "@jupyter-widgets/controls",
            "_view_module_version": "1.5.0",
            "_view_name": "HBoxView",
            "box_style": "",
            "children": [
              "IPY_MODEL_9bffde8158564887ad6e6fa81270dee4",
              "IPY_MODEL_a4d2c6d7e4664b7499eb8484ef112ea8",
              "IPY_MODEL_592badcb723148af89aafae9b143db80"
            ],
            "layout": "IPY_MODEL_f546b3ea36db42d88fd4875f4db8918c"
          }
        },
        "9bffde8158564887ad6e6fa81270dee4": {
          "model_module": "@jupyter-widgets/controls",
          "model_name": "HTMLModel",
          "model_module_version": "1.5.0",
          "state": {
            "_dom_classes": [],
            "_model_module": "@jupyter-widgets/controls",
            "_model_module_version": "1.5.0",
            "_model_name": "HTMLModel",
            "_view_count": null,
            "_view_module": "@jupyter-widgets/controls",
            "_view_module_version": "1.5.0",
            "_view_name": "HTMLView",
            "description": "",
            "description_tooltip": null,
            "layout": "IPY_MODEL_bd413509d0d74bd4a96bb897e8ac9324",
            "placeholder": "​",
            "style": "IPY_MODEL_06c671b803d749fbb068d82119a1b5d5",
            "value": " 10%"
          }
        },
        "a4d2c6d7e4664b7499eb8484ef112ea8": {
          "model_module": "@jupyter-widgets/controls",
          "model_name": "FloatProgressModel",
          "model_module_version": "1.5.0",
          "state": {
            "_dom_classes": [],
            "_model_module": "@jupyter-widgets/controls",
            "_model_module_version": "1.5.0",
            "_model_name": "FloatProgressModel",
            "_view_count": null,
            "_view_module": "@jupyter-widgets/controls",
            "_view_module_version": "1.5.0",
            "_view_name": "ProgressView",
            "bar_style": "",
            "description": "",
            "description_tooltip": null,
            "layout": "IPY_MODEL_c5b9c1e33dd144a5847471f93adfbeba",
            "max": 10,
            "min": 0,
            "orientation": "horizontal",
            "style": "IPY_MODEL_bd7a5d27fe5740999c78748a9840b145",
            "value": 1
          }
        },
        "592badcb723148af89aafae9b143db80": {
          "model_module": "@jupyter-widgets/controls",
          "model_name": "HTMLModel",
          "model_module_version": "1.5.0",
          "state": {
            "_dom_classes": [],
            "_model_module": "@jupyter-widgets/controls",
            "_model_module_version": "1.5.0",
            "_model_name": "HTMLModel",
            "_view_count": null,
            "_view_module": "@jupyter-widgets/controls",
            "_view_module_version": "1.5.0",
            "_view_name": "HTMLView",
            "description": "",
            "description_tooltip": null,
            "layout": "IPY_MODEL_9b7cae938de840f697ef6db9d44ebadd",
            "placeholder": "​",
            "style": "IPY_MODEL_c8b15b5931984e7888e7573b8372c0ad",
            "value": " 1/10 [02:57&lt;26:37, 177.55s/it]"
          }
        },
        "f546b3ea36db42d88fd4875f4db8918c": {
          "model_module": "@jupyter-widgets/base",
          "model_name": "LayoutModel",
          "model_module_version": "1.2.0",
          "state": {
            "_model_module": "@jupyter-widgets/base",
            "_model_module_version": "1.2.0",
            "_model_name": "LayoutModel",
            "_view_count": null,
            "_view_module": "@jupyter-widgets/base",
            "_view_module_version": "1.2.0",
            "_view_name": "LayoutView",
            "align_content": null,
            "align_items": null,
            "align_self": null,
            "border": null,
            "bottom": null,
            "display": null,
            "flex": null,
            "flex_flow": null,
            "grid_area": null,
            "grid_auto_columns": null,
            "grid_auto_flow": null,
            "grid_auto_rows": null,
            "grid_column": null,
            "grid_gap": null,
            "grid_row": null,
            "grid_template_areas": null,
            "grid_template_columns": null,
            "grid_template_rows": null,
            "height": null,
            "justify_content": null,
            "justify_items": null,
            "left": null,
            "margin": null,
            "max_height": null,
            "max_width": null,
            "min_height": null,
            "min_width": null,
            "object_fit": null,
            "object_position": null,
            "order": null,
            "overflow": null,
            "overflow_x": null,
            "overflow_y": null,
            "padding": null,
            "right": null,
            "top": null,
            "visibility": null,
            "width": null
          }
        },
        "bd413509d0d74bd4a96bb897e8ac9324": {
          "model_module": "@jupyter-widgets/base",
          "model_name": "LayoutModel",
          "model_module_version": "1.2.0",
          "state": {
            "_model_module": "@jupyter-widgets/base",
            "_model_module_version": "1.2.0",
            "_model_name": "LayoutModel",
            "_view_count": null,
            "_view_module": "@jupyter-widgets/base",
            "_view_module_version": "1.2.0",
            "_view_name": "LayoutView",
            "align_content": null,
            "align_items": null,
            "align_self": null,
            "border": null,
            "bottom": null,
            "display": null,
            "flex": null,
            "flex_flow": null,
            "grid_area": null,
            "grid_auto_columns": null,
            "grid_auto_flow": null,
            "grid_auto_rows": null,
            "grid_column": null,
            "grid_gap": null,
            "grid_row": null,
            "grid_template_areas": null,
            "grid_template_columns": null,
            "grid_template_rows": null,
            "height": null,
            "justify_content": null,
            "justify_items": null,
            "left": null,
            "margin": null,
            "max_height": null,
            "max_width": null,
            "min_height": null,
            "min_width": null,
            "object_fit": null,
            "object_position": null,
            "order": null,
            "overflow": null,
            "overflow_x": null,
            "overflow_y": null,
            "padding": null,
            "right": null,
            "top": null,
            "visibility": null,
            "width": null
          }
        },
        "06c671b803d749fbb068d82119a1b5d5": {
          "model_module": "@jupyter-widgets/controls",
          "model_name": "DescriptionStyleModel",
          "model_module_version": "1.5.0",
          "state": {
            "_model_module": "@jupyter-widgets/controls",
            "_model_module_version": "1.5.0",
            "_model_name": "DescriptionStyleModel",
            "_view_count": null,
            "_view_module": "@jupyter-widgets/base",
            "_view_module_version": "1.2.0",
            "_view_name": "StyleView",
            "description_width": ""
          }
        },
        "c5b9c1e33dd144a5847471f93adfbeba": {
          "model_module": "@jupyter-widgets/base",
          "model_name": "LayoutModel",
          "model_module_version": "1.2.0",
          "state": {
            "_model_module": "@jupyter-widgets/base",
            "_model_module_version": "1.2.0",
            "_model_name": "LayoutModel",
            "_view_count": null,
            "_view_module": "@jupyter-widgets/base",
            "_view_module_version": "1.2.0",
            "_view_name": "LayoutView",
            "align_content": null,
            "align_items": null,
            "align_self": null,
            "border": null,
            "bottom": null,
            "display": null,
            "flex": null,
            "flex_flow": null,
            "grid_area": null,
            "grid_auto_columns": null,
            "grid_auto_flow": null,
            "grid_auto_rows": null,
            "grid_column": null,
            "grid_gap": null,
            "grid_row": null,
            "grid_template_areas": null,
            "grid_template_columns": null,
            "grid_template_rows": null,
            "height": null,
            "justify_content": null,
            "justify_items": null,
            "left": null,
            "margin": null,
            "max_height": null,
            "max_width": null,
            "min_height": null,
            "min_width": null,
            "object_fit": null,
            "object_position": null,
            "order": null,
            "overflow": null,
            "overflow_x": null,
            "overflow_y": null,
            "padding": null,
            "right": null,
            "top": null,
            "visibility": null,
            "width": null
          }
        },
        "bd7a5d27fe5740999c78748a9840b145": {
          "model_module": "@jupyter-widgets/controls",
          "model_name": "ProgressStyleModel",
          "model_module_version": "1.5.0",
          "state": {
            "_model_module": "@jupyter-widgets/controls",
            "_model_module_version": "1.5.0",
            "_model_name": "ProgressStyleModel",
            "_view_count": null,
            "_view_module": "@jupyter-widgets/base",
            "_view_module_version": "1.2.0",
            "_view_name": "StyleView",
            "bar_color": null,
            "description_width": ""
          }
        },
        "9b7cae938de840f697ef6db9d44ebadd": {
          "model_module": "@jupyter-widgets/base",
          "model_name": "LayoutModel",
          "model_module_version": "1.2.0",
          "state": {
            "_model_module": "@jupyter-widgets/base",
            "_model_module_version": "1.2.0",
            "_model_name": "LayoutModel",
            "_view_count": null,
            "_view_module": "@jupyter-widgets/base",
            "_view_module_version": "1.2.0",
            "_view_name": "LayoutView",
            "align_content": null,
            "align_items": null,
            "align_self": null,
            "border": null,
            "bottom": null,
            "display": null,
            "flex": null,
            "flex_flow": null,
            "grid_area": null,
            "grid_auto_columns": null,
            "grid_auto_flow": null,
            "grid_auto_rows": null,
            "grid_column": null,
            "grid_gap": null,
            "grid_row": null,
            "grid_template_areas": null,
            "grid_template_columns": null,
            "grid_template_rows": null,
            "height": null,
            "justify_content": null,
            "justify_items": null,
            "left": null,
            "margin": null,
            "max_height": null,
            "max_width": null,
            "min_height": null,
            "min_width": null,
            "object_fit": null,
            "object_position": null,
            "order": null,
            "overflow": null,
            "overflow_x": null,
            "overflow_y": null,
            "padding": null,
            "right": null,
            "top": null,
            "visibility": null,
            "width": null
          }
        },
        "c8b15b5931984e7888e7573b8372c0ad": {
          "model_module": "@jupyter-widgets/controls",
          "model_name": "DescriptionStyleModel",
          "model_module_version": "1.5.0",
          "state": {
            "_model_module": "@jupyter-widgets/controls",
            "_model_module_version": "1.5.0",
            "_model_name": "DescriptionStyleModel",
            "_view_count": null,
            "_view_module": "@jupyter-widgets/base",
            "_view_module_version": "1.2.0",
            "_view_name": "StyleView",
            "description_width": ""
          }
        }
      }
    }
  },
  "nbformat": 4,
  "nbformat_minor": 0
}